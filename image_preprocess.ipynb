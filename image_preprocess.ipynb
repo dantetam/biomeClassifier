{
 "cells": [
  {
   "cell_type": "code",
   "execution_count": 1,
   "metadata": {},
   "outputs": [
    {
     "name": "stderr",
     "output_type": "stream",
     "text": [
      "Using TensorFlow backend.\n"
     ]
    }
   ],
   "source": [
    "import numpy as np\n",
    "import scipy.misc\n",
    "import matplotlib\n",
    "import matplotlib.pyplot as plt\n",
    "%matplotlib inline\n",
    "\n",
    "import tensorflow as tf\n",
    "import keras\n",
    "\n",
    "import math\n",
    "\n",
    "import os\n",
    "\n",
    "from PIL import Image"
   ]
  },
  {
   "cell_type": "code",
   "execution_count": 2,
   "metadata": {},
   "outputs": [
    {
     "name": "stdout",
     "output_type": "stream",
     "text": [
      "IMG_20151119_150243.jpg\n",
      "IMG_20151120_160602.jpg\n",
      "IMG_20151120_161800.jpg\n",
      "IMG_20151120_162301.jpg\n",
      "IMG_20151120_162331.jpg\n",
      "IMG_20151120_164001.jpg\n",
      "IMG_20151120_164015.jpg\n",
      "IMG_20151121_160323.jpg\n",
      "IMG_20151121_160330.jpg\n",
      "IMG_20151122_151323.jpg\n",
      "IMG_20151122_151412.jpg\n",
      "IMG_20151123_144208.jpg\n",
      "IMG_20151123_144852.jpg\n",
      "IMG_20151123_145007.jpg\n",
      "IMG_20151123_145326.jpg\n",
      "IMG_20151123_145752.jpg\n",
      "IMG_20151123_150812.jpg\n",
      "IMG_20151123_154943.jpg\n",
      "IMG_20151123_161018.jpg\n",
      "IMG_20151123_161937.jpg\n",
      "IMG_20151123_162549.jpg\n",
      "IMG_20151123_162551.jpg\n",
      "IMG_20151123_163354.jpg\n",
      "IMG_20151123_163606.jpg\n",
      "IMG_20151123_164230.jpg\n",
      "IMG_20160128_132134.jpg\n",
      "IMG_20160128_132139.jpg\n",
      "IMG_20160325_112547.jpg\n",
      "IMG_20160325_113508.jpg\n",
      "IMG_20170913_154424.jpg\n"
     ]
    }
   ],
   "source": [
    "imageNames = os.listdir(\"./dataset/\")\n",
    "\n",
    "for imageName in imageNames:\n",
    "    print(imageName)"
   ]
  },
  {
   "cell_type": "code",
   "execution_count": 3,
   "metadata": {
    "collapsed": true
   },
   "outputs": [],
   "source": [
    "def squareify(img):\n",
    "    r = img.shape[0]\n",
    "    c = img.shape[1]\n",
    "    if r == c:\n",
    "        return img\n",
    "    elif r > c:\n",
    "        top = (r - c) // 2\n",
    "        bottom = top + c\n",
    "        return img[top:bottom, :]\n",
    "    else:\n",
    "        left = (c - r) // 2\n",
    "        right = left + r\n",
    "        return img[:, left:right]"
   ]
  },
  {
   "cell_type": "code",
   "execution_count": 4,
   "metadata": {
    "collapsed": true
   },
   "outputs": [],
   "source": [
    "def rgb2gray(rgb):\n",
    "    return np.dot(rgb[...,:3], [0.587, 0.299, 0.114])\n",
    "\n",
    "def sharpen(img, sigma, sharp_weight):\n",
    "    # A high pass filter created by subtracting the low pass from the original\n",
    "    low_pass_img = scipy.ndimage.filters.gaussian_filter(img, sigma)\n",
    "    high_pass_img = rgb2gray(img - low_pass_img)\n",
    "    high_pass_img = np.dstack([high_pass_img, high_pass_img, high_pass_img])\n",
    "    \n",
    "    result = (sharp_weight * high_pass_img + img)\n",
    "    \n",
    "    def limit(x):\n",
    "        if x < 0:\n",
    "            return 0\n",
    "        elif x > 1:\n",
    "            return 1\n",
    "        return x\n",
    "    \n",
    "    clamp = np.vectorize(limit)\n",
    "    \n",
    "    result = clamp(result)\n",
    "    \n",
    "    return result"
   ]
  },
  {
   "cell_type": "code",
   "execution_count": 5,
   "metadata": {
    "collapsed": true
   },
   "outputs": [],
   "source": [
    "def gaussianStack(image, num_layers, sigma):\n",
    "    results = []\n",
    "    for i in range(num_layers):\n",
    "        if i == 0:\n",
    "            results.append(scipy.ndimage.filters.gaussian_filter(image, sigma))\n",
    "        else:\n",
    "            results.append(scipy.ndimage.filters.gaussian_filter(results[i-1], sigma))\n",
    "    return results\n",
    "\n",
    "def laplacianStack(image, num_layers, sigma):\n",
    "    results = []\n",
    "    for i in range(num_layers):\n",
    "        if i == 0:\n",
    "            results.append(scipy.ndimage.filters.laplace(image))\n",
    "        else:\n",
    "            results.append(scipy.ndimage.filters.gaussian_filter(results[i-1], sigma))\n",
    "    return results"
   ]
  },
  {
   "cell_type": "code",
   "execution_count": 6,
   "metadata": {},
   "outputs": [
    {
     "name": "stderr",
     "output_type": "stream",
     "text": [
      "c:\\Anaconda3\\lib\\site-packages\\ipykernel_launcher.py:4: DeprecationWarning: `imread` is deprecated!\n",
      "`imread` is deprecated in SciPy 1.0.0, and will be removed in 1.2.0.\n",
      "Use ``imageio.imread`` instead.\n",
      "  after removing the cwd from sys.path.\n",
      "c:\\Anaconda3\\lib\\site-packages\\ipykernel_launcher.py:6: DeprecationWarning: `imresize` is deprecated!\n",
      "`imresize` is deprecated in SciPy 1.0.0, and will be removed in 1.2.0.\n",
      "Use ``skimage.transform.resize`` instead.\n",
      "  \n",
      "c:\\Anaconda3\\lib\\site-packages\\ipykernel_launcher.py:9: DeprecationWarning: `imsave` is deprecated!\n",
      "`imsave` is deprecated in SciPy 1.0.0, and will be removed in 1.2.0.\n",
      "Use ``imageio.imwrite`` instead.\n",
      "  if __name__ == '__main__':\n"
     ]
    }
   ],
   "source": [
    "baseImages = {}\n",
    "\n",
    "for imageName in imageNames:\n",
    "    img = scipy.misc.imread(\"./dataset/\" + imageName)\n",
    "    img = squareify(img)\n",
    "    img = scipy.misc.imresize(img, (1024, 1024, 3))\n",
    "    baseImages[imageName] = rgb2gray(img) # img[:, :, 0]\n",
    "    \n",
    "    scipy.misc.imsave(\"./dataset_rect/\" + imageName, img)"
   ]
  },
  {
   "cell_type": "code",
   "execution_count": 7,
   "metadata": {},
   "outputs": [
    {
     "name": "stderr",
     "output_type": "stream",
     "text": [
      "c:\\Anaconda3\\lib\\site-packages\\ipykernel_launcher.py:2: DeprecationWarning: `imread` is deprecated!\n",
      "`imread` is deprecated in SciPy 1.0.0, and will be removed in 1.2.0.\n",
      "Use ``imageio.imread`` instead.\n",
      "  \n",
      "c:\\Anaconda3\\lib\\site-packages\\ipykernel_launcher.py:9: DeprecationWarning: `imsave` is deprecated!\n",
      "`imsave` is deprecated in SciPy 1.0.0, and will be removed in 1.2.0.\n",
      "Use ``imageio.imwrite`` instead.\n",
      "  if __name__ == '__main__':\n",
      "c:\\Anaconda3\\lib\\site-packages\\ipykernel_launcher.py:12: DeprecationWarning: `imsave` is deprecated!\n",
      "`imsave` is deprecated in SciPy 1.0.0, and will be removed in 1.2.0.\n",
      "Use ``imageio.imwrite`` instead.\n",
      "  if sys.path[0] == '':\n",
      "c:\\Anaconda3\\lib\\site-packages\\ipykernel_launcher.py:14: DeprecationWarning: `imsave` is deprecated!\n",
      "`imsave` is deprecated in SciPy 1.0.0, and will be removed in 1.2.0.\n",
      "Use ``imageio.imwrite`` instead.\n",
      "  \n"
     ]
    }
   ],
   "source": [
    "for imageName in imageNames:\n",
    "    img = scipy.misc.imread(\"./dataset/\" + imageName)\n",
    "    \n",
    "    gs = gaussianStack(img, 6, 3.0)\n",
    "    ls = laplacianStack(img, 6, 3.0)\n",
    "    \n",
    "    for i in range(len(gs)):\n",
    "        gaussian = gs[i]\n",
    "        scipy.misc.imsave(\"./dataset_gaussian/\" + imageName.split(\".\")[0] + \"_gaussian_\" + str(i) + \".jpg\", gaussian)\n",
    "    for i in range(len(ls)):\n",
    "        laplacian = ls[i]\n",
    "        scipy.misc.imsave(\"./dataset_laplacian/\" + imageName.split(\".\")[0] + \"_laplacian_\" + str(i) + \".jpg\", laplacian)\n",
    "    bw = rgb2gray(img)\n",
    "    scipy.misc.imsave(\"./dataset_bw/\" + imageName.split(\".\")[0] + \"_bw_\" + str(i) + \".jpg\", bw)"
   ]
  },
  {
   "cell_type": "code",
   "execution_count": 8,
   "metadata": {
    "collapsed": true
   },
   "outputs": [],
   "source": [
    "class Generator:\n",
    "    def __init__(self, depths=[1024, 512, 256, 128], s_size=4):\n",
    "        self.depths = depths + [3]\n",
    "        self.s_size = s_size\n",
    "        self.reuse = False\n",
    "\n",
    "    def __call__(self, inputs, training=False):\n",
    "        inputs = tf.convert_to_tensor(inputs)\n",
    "        with tf.variable_scope('g', reuse=self.reuse):\n",
    "            # reshape from inputs\n",
    "            with tf.variable_scope('reshape'):\n",
    "                outputs = tf.layers.dense(inputs, self.depths[0] * self.s_size * self.s_size)\n",
    "                outputs = tf.reshape(outputs, [-1, self.s_size, self.s_size, self.depths[0]])\n",
    "                outputs = tf.nn.relu(tf.layers.batch_normalization(outputs, training=training), name='outputs')\n",
    "            # deconvolution (transpose of convolution) x 4\n",
    "            with tf.variable_scope('deconv1'):\n",
    "                outputs = tf.layers.conv2d_transpose(outputs, self.depths[1], [5, 5], strides=(2, 2), padding='SAME')\n",
    "                outputs = tf.nn.relu(tf.layers.batch_normalization(outputs, training=training), name='outputs')\n",
    "            with tf.variable_scope('deconv2'):\n",
    "                outputs = tf.layers.conv2d_transpose(outputs, self.depths[2], [5, 5], strides=(2, 2), padding='SAME')\n",
    "                outputs = tf.nn.relu(tf.layers.batch_normalization(outputs, training=training), name='outputs')\n",
    "            with tf.variable_scope('deconv3'):\n",
    "                outputs = tf.layers.conv2d_transpose(outputs, self.depths[3], [5, 5], strides=(2, 2), padding='SAME')\n",
    "                outputs = tf.nn.relu(tf.layers.batch_normalization(outputs, training=training), name='outputs')\n",
    "            with tf.variable_scope('deconv4'):\n",
    "                outputs = tf.layers.conv2d_transpose(outputs, self.depths[4], [5, 5], strides=(2, 2), padding='SAME')\n",
    "            # output images\n",
    "            with tf.variable_scope('tanh'):\n",
    "                outputs = tf.tanh(outputs, name='outputs')\n",
    "        self.reuse = True\n",
    "        self.variables = tf.get_collection(tf.GraphKeys.TRAINABLE_VARIABLES, scope='g')\n",
    "        return outputs\n",
    "\n",
    "\n",
    "class Discriminator:\n",
    "    def __init__(self, depths=[64, 128, 256, 512]):\n",
    "        self.depths = [3] + depths\n",
    "        self.reuse = False\n",
    "\n",
    "    def __call__(self, inputs, training=False, name=''):\n",
    "        def leaky_relu(x, leak=0.2, name=''):\n",
    "            return tf.maximum(x, x * leak, name=name)\n",
    "        outputs = tf.convert_to_tensor(inputs)\n",
    "\n",
    "        with tf.name_scope('d' + name), tf.variable_scope('d', reuse=self.reuse):\n",
    "            # convolution x 4\n",
    "            with tf.variable_scope('conv1'):\n",
    "                outputs = tf.layers.conv2d(outputs, self.depths[1], [5, 5], strides=(2, 2), padding='SAME')\n",
    "                outputs = leaky_relu(tf.layers.batch_normalization(outputs, training=training), name='outputs')\n",
    "            with tf.variable_scope('conv2'):\n",
    "                outputs = tf.layers.conv2d(outputs, self.depths[2], [5, 5], strides=(2, 2), padding='SAME')\n",
    "                outputs = leaky_relu(tf.layers.batch_normalization(outputs, training=training), name='outputs')\n",
    "            with tf.variable_scope('conv3'):\n",
    "                outputs = tf.layers.conv2d(outputs, self.depths[3], [5, 5], strides=(2, 2), padding='SAME')\n",
    "                outputs = leaky_relu(tf.layers.batch_normalization(outputs, training=training), name='outputs')\n",
    "            with tf.variable_scope('conv4'):\n",
    "                outputs = tf.layers.conv2d(outputs, self.depths[4], [5, 5], strides=(2, 2), padding='SAME')\n",
    "                outputs = leaky_relu(tf.layers.batch_normalization(outputs, training=training), name='outputs')\n",
    "            with tf.variable_scope('classify'):\n",
    "                batch_size = outputs.get_shape()[0].value\n",
    "                reshape = tf.reshape(outputs, [batch_size, -1])\n",
    "                outputs = tf.layers.dense(reshape, 2, name='outputs')\n",
    "        self.reuse = True\n",
    "        self.variables = tf.get_collection(tf.GraphKeys.TRAINABLE_VARIABLES, scope='d')\n",
    "        return outputs\n",
    "\n",
    "\n",
    "class DCGAN:\n",
    "    def __init__(self,\n",
    "                 batch_size=8, s_size=4, z_dim=100,\n",
    "                 g_depths=[1024, 512, 256, 128],\n",
    "                 d_depths=[64, 128, 256, 512]):\n",
    "        self.batch_size = batch_size\n",
    "        self.s_size = s_size\n",
    "        self.z_dim = z_dim\n",
    "        self.g = Generator(depths=g_depths, s_size=self.s_size)\n",
    "        self.d = Discriminator(depths=d_depths)\n",
    "        self.z = tf.random_uniform([self.batch_size, self.z_dim], minval=-1.0, maxval=1.0)\n",
    "\n",
    "    def loss(self, traindata):\n",
    "        \"\"\"build models, calculate losses.\n",
    "        Args:\n",
    "            traindata: 4-D Tensor of shape `[batch, height, width, channels]`.\n",
    "        Returns:\n",
    "            dict of each models' losses.\n",
    "        \"\"\"\n",
    "        generated = self.g(self.z, training=True)\n",
    "        g_outputs = self.d(generated, training=True, name='g')\n",
    "        t_outputs = self.d(traindata, training=True, name='t')\n",
    "        # add each losses to collection\n",
    "        tf.add_to_collection(\n",
    "            'g_losses',\n",
    "            tf.reduce_mean(\n",
    "                tf.nn.sparse_softmax_cross_entropy_with_logits(\n",
    "                    labels=tf.ones([self.batch_size], dtype=tf.int64),\n",
    "                    logits=g_outputs)))\n",
    "        tf.add_to_collection(\n",
    "            'd_losses',\n",
    "            tf.reduce_mean(\n",
    "                tf.nn.sparse_softmax_cross_entropy_with_logits(\n",
    "                    labels=tf.ones([self.batch_size], dtype=tf.int64),\n",
    "                    logits=t_outputs)))\n",
    "        tf.add_to_collection(\n",
    "            'd_losses',\n",
    "            tf.reduce_mean(\n",
    "                tf.nn.sparse_softmax_cross_entropy_with_logits(\n",
    "                    labels=tf.zeros([self.batch_size], dtype=tf.int64),\n",
    "                    logits=g_outputs)))\n",
    "        return {\n",
    "            self.g: tf.add_n(tf.get_collection('g_losses'), name='total_g_loss'),\n",
    "            self.d: tf.add_n(tf.get_collection('d_losses'), name='total_d_loss'),\n",
    "        }\n",
    "\n",
    "    def train(self, losses, learning_rate=0.0002, beta1=0.5):\n",
    "        \"\"\"\n",
    "        Args:\n",
    "            losses dict.\n",
    "        Returns:\n",
    "            train op.\n",
    "        \"\"\"\n",
    "        g_opt = tf.train.AdamOptimizer(learning_rate=learning_rate, beta1=beta1)\n",
    "        d_opt = tf.train.AdamOptimizer(learning_rate=learning_rate, beta1=beta1)\n",
    "        g_opt_op = g_opt.minimize(losses[self.g], var_list=self.g.variables)\n",
    "        d_opt_op = d_opt.minimize(losses[self.d], var_list=self.d.variables)\n",
    "        with tf.control_dependencies([g_opt_op, d_opt_op]):\n",
    "            return tf.no_op(name='train')\n",
    "\n",
    "    def sample_images(self, row=8, col=8, inputs=None):\n",
    "        if inputs is None:\n",
    "            inputs = self.z\n",
    "        images = self.g(inputs, training=True)\n",
    "        images = tf.image.convert_image_dtype(tf.div(tf.add(images, 1.0), 2.0), tf.uint8)\n",
    "        images = [image for image in tf.split(images, self.batch_size, axis=0)]\n",
    "        rows = []\n",
    "        for i in range(row):\n",
    "            rows.append(tf.concat(images[col * i + 0:col * i + col], 2))\n",
    "        image = tf.concat(rows, 1)\n",
    "        \n",
    "        return tf.image.encode_jpeg(tf.squeeze(image, [0]))"
   ]
  },
  {
   "cell_type": "code",
   "execution_count": 9,
   "metadata": {},
   "outputs": [
    {
     "data": {
      "text/plain": [
       "30"
      ]
     },
     "execution_count": 9,
     "metadata": {},
     "output_type": "execute_result"
    }
   ],
   "source": [
    "imagesLoaded = []\n",
    "\n",
    "for imageName in imageNames:\n",
    "    result = np.asarray(Image.open(\"./dataset_rect/\" + imageName).convert('L'))\n",
    "    imagesLoaded.append(result)\n",
    "    \n",
    "len(imagesLoaded)"
   ]
  },
  {
   "cell_type": "code",
   "execution_count": 10,
   "metadata": {},
   "outputs": [
    {
     "data": {
      "text/plain": [
       "array([[244, 244, 244, ..., 231, 232, 233],\n",
       "       [244, 244, 244, ..., 232, 233, 233],\n",
       "       [244, 244, 244, ..., 234, 234, 235],\n",
       "       ..., \n",
       "       [174, 173, 171, ...,  44,  44,  44],\n",
       "       [160, 159, 158, ...,  44,  44,  44],\n",
       "       [151, 151, 152, ...,  44,  44,  44]], dtype=uint8)"
      ]
     },
     "execution_count": 10,
     "metadata": {},
     "output_type": "execute_result"
    }
   ],
   "source": [
    "imagesLoaded[0]"
   ]
  },
  {
   "cell_type": "code",
   "execution_count": 11,
   "metadata": {},
   "outputs": [
    {
     "ename": "ValueError",
     "evalue": "Argument must be a dense tensor: [array([[244, 244, 244, ..., 231, 232, 233],\n       [244, 244, 244, ..., 232, 233, 233],\n       [244, 244, 244, ..., 234, 234, 235],\n       ..., \n       [174, 173, 171, ...,  44,  44,  44],\n       [160, 159, 158, ...,  44,  44,  44],\n       [151, 151, 152, ...,  44,  44,  44]], dtype=uint8), array([[143, 123,  66, ..., 205, 205, 154],\n       [143, 131,  82, ..., 231, 249, 182],\n       [162, 155, 107, ..., 230, 244, 157],\n       ..., \n       [ 46,  44,  42, ...,  41,  43,  45],\n       [ 46,  46,  45, ...,  41,  41,  42],\n       [ 41,  43,  45, ...,  44,  41,  39]], dtype=uint8), array([[154, 153, 153, ..., 130, 130, 130],\n       [154, 153, 153, ..., 130, 130, 130],\n       [154, 154, 153, ..., 130, 130, 130],\n       ..., \n       [ 17,  14,  12, ...,  21,  22,  24],\n       [ 15,  10,   9, ...,  20,  22,  24],\n       [ 10,   5,   5, ...,  17,  20,  22]], dtype=uint8), array([[  8,  14,  18, ..., 186, 187, 188],\n       [  4,   8,  12, ..., 187, 188, 188],\n       [  4,   5,   7, ..., 189, 189, 190],\n       ..., \n       [ 19,  22,  22, ...,  26,  22,  16],\n       [ 20,  21,  20, ...,  27,  26,  23],\n       [ 14,  16,  14, ...,  29,  31,  30]], dtype=uint8), array([[ 47, 106, 155, ...,  44,  34,  33],\n       [ 50,  99, 169, ...,  41,  39,  41],\n       [ 59,  94, 162, ...,  43,  45,  45],\n       ..., \n       [ 55,  56,  56, ...,  73,  73,  72],\n       [ 56,  56,  56, ...,  76,  75,  75],\n       [ 56,  57,  57, ...,  79,  79,  78]], dtype=uint8), array([[192, 191, 191, ..., 169, 169, 169],\n       [192, 191, 191, ..., 169, 169, 169],\n       [192, 192, 191, ..., 169, 169, 169],\n       ..., \n       [ 36,  26,  31, ...,  72,  47,  44],\n       [ 36,  24,  30, ...,  83,  45,  48],\n       [ 42,  30,  34, ...,  73,  34,  55]], dtype=uint8), array([[ 87,  87,  87, ..., 119, 119, 119],\n       [ 87,  87,  87, ..., 119, 119, 119],\n       [ 87,  87,  87, ..., 119, 119, 119],\n       ..., \n       [ 34,  22,  31, ...,  26,  25,  25],\n       [ 31,  21,  32, ...,  26,  27,  27],\n       [ 28,  20,  31, ...,  27,  27,  28]], dtype=uint8), array([[211, 210, 210, ..., 205, 205, 205],\n       [211, 210, 210, ..., 205, 205, 205],\n       [211, 210, 210, ..., 205, 205, 205],\n       ..., \n       [ 23,  26,  31, ...,  53,  41,  37],\n       [ 28,  32,  36, ...,  39,  24,  29],\n       [ 34,  38,  42, ...,  34,  22,  41]], dtype=uint8), array([[150, 150, 150, ..., 193, 193, 193],\n       [150, 150, 150, ..., 193, 193, 193],\n       [150, 150, 150, ..., 194, 194, 194],\n       ..., \n       [ 99, 112,  81, ...,  31,  32,  32],\n       [ 94, 104,  79, ...,  29,  30,  30],\n       [ 81,  73,  83, ...,  31,  32,  32]], dtype=uint8), array([[253, 246, 253, ...,  68,  66,  67],\n       [240, 246, 250, ...,  65,  63,  63],\n       [194, 241, 253, ...,  62,  59,  59],\n       ..., \n       [133, 134, 133, ..., 117, 119, 121],\n       [133, 135, 136, ..., 114, 116, 120],\n       [134, 137, 138, ..., 113, 115, 119]], dtype=uint8), array([[109, 111, 127, ...,  42,  40,  39],\n       [101, 114, 141, ...,  45,  40,  38],\n       [ 96, 109, 130, ...,  47,  41,  37],\n       ..., \n       [149, 152, 157, ...,  40,  38,  33],\n       [153, 151, 152, ...,  65,  60,  47],\n       [150, 147, 148, ...,  96,  86,  66]], dtype=uint8), array([[33, 34, 36, ..., 40, 39, 37],\n       [33, 34, 36, ..., 41, 39, 38],\n       [34, 35, 36, ..., 43, 41, 39],\n       ..., \n       [34, 34, 34, ..., 46, 43, 42],\n       [34, 34, 34, ..., 53, 51, 48],\n       [35, 35, 35, ..., 61, 58, 56]], dtype=uint8), array([[213, 212, 107, ..., 245, 194, 166],\n       [145, 157,  99, ..., 209, 184, 187],\n       [169, 136,  73, ..., 196, 186, 187],\n       ..., \n       [ 63,  59,  63, ...,  33,  33,  33],\n       [ 84,  77,  77, ...,  28,  30,  30],\n       [ 78,  70,  67, ...,  35,  36,  33]], dtype=uint8), array([[252, 253, 254, ..., 179, 184, 185],\n       [251, 254, 255, ..., 175, 179, 182],\n       [253, 254, 255, ..., 171, 179, 192],\n       ..., \n       [ 75,  74,  71, ...,  97, 100, 105],\n       [ 69,  70,  70, ...,  99,  97,  97],\n       [ 67,  69,  71, ..., 110, 103, 101]], dtype=uint8), array([[185, 192, 196, ..., 112, 112, 114],\n       [185, 190, 195, ..., 111, 112, 115],\n       [192, 194, 196, ..., 110, 113, 116],\n       ..., \n       [157, 161, 169, ..., 117, 123, 123],\n       [161, 159, 162, ..., 120, 106,  88],\n       [144, 135, 133, ..., 117,  92,  69]], dtype=uint8), array([[145, 138, 131, ...,  87,  85,  83],\n       [141, 136, 131, ...,  91,  89,  87],\n       [134, 131, 129, ...,  88,  85,  82],\n       ..., \n       [ 68,  64,  60, ...,  43,  45,  43],\n       [ 63,  62,  61, ...,  56,  59,  57],\n       [ 58,  59,  60, ...,  65,  64,  60]], dtype=uint8), array([[75, 76, 78, ..., 21, 22, 23],\n       [74, 75, 76, ..., 22, 23, 24],\n       [74, 74, 75, ..., 24, 24, 25],\n       ..., \n       [39, 39, 40, ..., 26, 26, 26],\n       [39, 39, 40, ..., 26, 26, 26],\n       [39, 40, 40, ..., 26, 26, 26]], dtype=uint8), array([[ 75,  71,  71, ...,  99,  99, 104],\n       [ 74,  70,  71, ..., 101, 101, 106],\n       [ 73,  70,  70, ..., 103, 102, 106],\n       ..., \n       [148, 147, 143, ..., 130, 124, 117],\n       [146, 146, 145, ..., 128, 125, 121],\n       [145, 146, 147, ..., 128, 129, 128]], dtype=uint8), array([[ 80,  89, 101, ...,  37,  30,  26],\n       [ 77,  62,  69, ...,  35,  32,  32],\n       [122,  97,  95, ...,  35,  36,  39],\n       ..., \n       [ 16,  16,  16, ...,  22,  25,  27],\n       [ 16,  15,  14, ...,  22,  25,  27],\n       [ 16,  15,  13, ...,  26,  28,  29]], dtype=uint8), array([[ 47,  48,  46, ..., 101,  97,  98],\n       [ 51,  49,  46, ...,  94,  95,  98],\n       [ 52,  48,  46, ...,  88,  92,  97],\n       ..., \n       [ 32,  31,  28, ...,  15,   8,   9],\n       [ 18,  19,  17, ...,  19,  11,  12],\n       [ 25,  25,  22, ...,  16,   8,   9]], dtype=uint8), array([[130,  98,  85, ..., 129, 129, 129],\n       [209, 186, 128, ..., 129, 129, 129],\n       [241, 215, 191, ..., 129, 129, 129],\n       ..., \n       [ 15,  15,  15, ...,  18,  22,  29],\n       [ 20,  19,  17, ...,  18,  14,  16],\n       [ 24,  22,  18, ...,  26,  29,  35]], dtype=uint8), array([[254, 254, 254, ..., 255, 255, 255],\n       [254, 254, 254, ..., 255, 255, 255],\n       [254, 254, 254, ..., 255, 255, 255],\n       ..., \n       [ 60,  61,  62, ...,  76,  76,  76],\n       [ 62,  61,  61, ...,  78,  74,  75],\n       [ 59,  58,  57, ...,  78,  66,  65]], dtype=uint8), array([[255, 255, 255, ..., 168, 174, 181],\n       [255, 255, 255, ..., 165, 179, 198],\n       [255, 255, 255, ..., 165, 178, 198],\n       ..., \n       [104, 103,  95, ...,  28,  33,  42],\n       [110, 113, 107, ...,  33,  40,  50],\n       [107, 116, 113, ...,  37,  47,  57]], dtype=uint8), array([[ 62,  65,  69, ..., 130, 130, 129],\n       [ 63,  66,  71, ..., 128, 127, 127],\n       [ 62,  67,  72, ..., 126, 125, 124],\n       ..., \n       [140, 144, 151, ...,  65,  67,  69],\n       [140, 142, 144, ...,  61,  63,  65],\n       [145, 143, 141, ...,  58,  59,  61]], dtype=uint8), array([[10,  4,  1, ..., 31, 32, 37],\n       [16,  7,  1, ..., 31, 33, 37],\n       [26, 16,  6, ..., 30, 33, 38],\n       ..., \n       [21, 20, 20, ..., 46, 47, 46],\n       [24, 22, 21, ..., 51, 55, 55],\n       [29, 27, 25, ..., 50, 54, 55]], dtype=uint8), array([[ 42,  73,  76, ...,  40,  76, 136],\n       [ 30,  42,  46, ...,  48,  72, 110],\n       [ 33,  24,  30, ...,  43,  48,  60],\n       ..., \n       [ 12,  10,   8, ...,  27,  23,  21],\n       [ 11,  10,   8, ...,  26,  23,  21],\n       [ 11,   9,   7, ...,  25,  25,  25]], dtype=uint8), array([[152, 158, 145, ..., 176, 209, 245],\n       [151, 150, 133, ..., 254, 254, 245],\n       [153, 144, 120, ..., 253, 236, 221],\n       ..., \n       [100, 118, 119, ...,  48,  56,  69],\n       [108, 118, 124, ...,  54,  55,  64],\n       [114, 120, 129, ...,  61,  57,  62]], dtype=uint8), array([[159, 158, 158, ..., 144, 144, 144],\n       [160, 160, 159, ..., 144, 144, 144],\n       [161, 161, 160, ..., 145, 144, 144],\n       ..., \n       [178, 176, 172, ..., 160, 182, 173],\n       [175, 178, 182, ..., 143, 170, 193],\n       [172, 179, 186, ..., 139, 140, 164]], dtype=uint8), array([[136, 136, 136, ..., 150, 150, 150],\n       [136, 136, 136, ..., 150, 150, 150],\n       [135, 135, 135, ..., 150, 150, 150],\n       ..., \n       [ 49,  46,  43, ..., 109, 110, 105],\n       [ 52,  48,  46, ..., 108, 107, 104],\n       [ 53,  49,  46, ..., 114, 114, 109]], dtype=uint8), array([[255, 255, 255, ..., 216, 205, 196],\n       [255, 255, 255, ..., 196, 191, 187],\n       [255, 255, 255, ..., 192, 196, 200],\n       ..., \n       [126, 126, 125, ...,  90,  81,  72],\n       [129, 138, 147, ...,  95,  89,  72],\n       [110, 130, 150, ..., 119, 103,  80]], dtype=uint8)] - got shape [30, 1024, 1024], but wanted [30].",
     "output_type": "error",
     "traceback": [
      "\u001b[1;31m---------------------------------------------------------------------------\u001b[0m",
      "\u001b[1;31mValueError\u001b[0m                                Traceback (most recent call last)",
      "\u001b[1;32m<ipython-input-11-410b8e3aff8f>\u001b[0m in \u001b[0;36m<module>\u001b[1;34m()\u001b[0m\n\u001b[0;32m      1\u001b[0m \u001b[0mdcgan\u001b[0m \u001b[1;33m=\u001b[0m \u001b[0mDCGAN\u001b[0m\u001b[1;33m(\u001b[0m\u001b[1;33m)\u001b[0m\u001b[1;33m\u001b[0m\u001b[0m\n\u001b[0;32m      2\u001b[0m \u001b[0mtrain_images\u001b[0m \u001b[1;33m=\u001b[0m \u001b[0mimagesLoaded\u001b[0m\u001b[1;33m\u001b[0m\u001b[0m\n\u001b[1;32m----> 3\u001b[1;33m \u001b[0mlosses\u001b[0m \u001b[1;33m=\u001b[0m \u001b[0mdcgan\u001b[0m\u001b[1;33m.\u001b[0m\u001b[0mloss\u001b[0m\u001b[1;33m(\u001b[0m\u001b[0mimagesLoaded\u001b[0m\u001b[1;33m)\u001b[0m\u001b[1;33m\u001b[0m\u001b[0m\n\u001b[0m\u001b[0;32m      4\u001b[0m \u001b[0mtrain_op\u001b[0m \u001b[1;33m=\u001b[0m \u001b[0mdcgan\u001b[0m\u001b[1;33m.\u001b[0m\u001b[0mtrain\u001b[0m\u001b[1;33m(\u001b[0m\u001b[0mlosses\u001b[0m\u001b[1;33m)\u001b[0m\u001b[1;33m\u001b[0m\u001b[0m\n\u001b[0;32m      5\u001b[0m \u001b[1;33m\u001b[0m\u001b[0m\n",
      "\u001b[1;32m<ipython-input-8-fe58a13ccf27>\u001b[0m in \u001b[0;36mloss\u001b[1;34m(self, traindata)\u001b[0m\n\u001b[0;32m     87\u001b[0m         \u001b[0mgenerated\u001b[0m \u001b[1;33m=\u001b[0m \u001b[0mself\u001b[0m\u001b[1;33m.\u001b[0m\u001b[0mg\u001b[0m\u001b[1;33m(\u001b[0m\u001b[0mself\u001b[0m\u001b[1;33m.\u001b[0m\u001b[0mz\u001b[0m\u001b[1;33m,\u001b[0m \u001b[0mtraining\u001b[0m\u001b[1;33m=\u001b[0m\u001b[1;32mTrue\u001b[0m\u001b[1;33m)\u001b[0m\u001b[1;33m\u001b[0m\u001b[0m\n\u001b[0;32m     88\u001b[0m         \u001b[0mg_outputs\u001b[0m \u001b[1;33m=\u001b[0m \u001b[0mself\u001b[0m\u001b[1;33m.\u001b[0m\u001b[0md\u001b[0m\u001b[1;33m(\u001b[0m\u001b[0mgenerated\u001b[0m\u001b[1;33m,\u001b[0m \u001b[0mtraining\u001b[0m\u001b[1;33m=\u001b[0m\u001b[1;32mTrue\u001b[0m\u001b[1;33m,\u001b[0m \u001b[0mname\u001b[0m\u001b[1;33m=\u001b[0m\u001b[1;34m'g'\u001b[0m\u001b[1;33m)\u001b[0m\u001b[1;33m\u001b[0m\u001b[0m\n\u001b[1;32m---> 89\u001b[1;33m         \u001b[0mt_outputs\u001b[0m \u001b[1;33m=\u001b[0m \u001b[0mself\u001b[0m\u001b[1;33m.\u001b[0m\u001b[0md\u001b[0m\u001b[1;33m(\u001b[0m\u001b[0mtraindata\u001b[0m\u001b[1;33m,\u001b[0m \u001b[0mtraining\u001b[0m\u001b[1;33m=\u001b[0m\u001b[1;32mTrue\u001b[0m\u001b[1;33m,\u001b[0m \u001b[0mname\u001b[0m\u001b[1;33m=\u001b[0m\u001b[1;34m't'\u001b[0m\u001b[1;33m)\u001b[0m\u001b[1;33m\u001b[0m\u001b[0m\n\u001b[0m\u001b[0;32m     90\u001b[0m         \u001b[1;31m# add each losses to collection\u001b[0m\u001b[1;33m\u001b[0m\u001b[1;33m\u001b[0m\u001b[0m\n\u001b[0;32m     91\u001b[0m         tf.add_to_collection(\n",
      "\u001b[1;32m<ipython-input-8-fe58a13ccf27>\u001b[0m in \u001b[0;36m__call__\u001b[1;34m(self, inputs, training, name)\u001b[0m\n\u001b[0;32m     41\u001b[0m         \u001b[1;32mdef\u001b[0m \u001b[0mleaky_relu\u001b[0m\u001b[1;33m(\u001b[0m\u001b[0mx\u001b[0m\u001b[1;33m,\u001b[0m \u001b[0mleak\u001b[0m\u001b[1;33m=\u001b[0m\u001b[1;36m0.2\u001b[0m\u001b[1;33m,\u001b[0m \u001b[0mname\u001b[0m\u001b[1;33m=\u001b[0m\u001b[1;34m''\u001b[0m\u001b[1;33m)\u001b[0m\u001b[1;33m:\u001b[0m\u001b[1;33m\u001b[0m\u001b[0m\n\u001b[0;32m     42\u001b[0m             \u001b[1;32mreturn\u001b[0m \u001b[0mtf\u001b[0m\u001b[1;33m.\u001b[0m\u001b[0mmaximum\u001b[0m\u001b[1;33m(\u001b[0m\u001b[0mx\u001b[0m\u001b[1;33m,\u001b[0m \u001b[0mx\u001b[0m \u001b[1;33m*\u001b[0m \u001b[0mleak\u001b[0m\u001b[1;33m,\u001b[0m \u001b[0mname\u001b[0m\u001b[1;33m=\u001b[0m\u001b[0mname\u001b[0m\u001b[1;33m)\u001b[0m\u001b[1;33m\u001b[0m\u001b[0m\n\u001b[1;32m---> 43\u001b[1;33m         \u001b[0moutputs\u001b[0m \u001b[1;33m=\u001b[0m \u001b[0mtf\u001b[0m\u001b[1;33m.\u001b[0m\u001b[0mconvert_to_tensor\u001b[0m\u001b[1;33m(\u001b[0m\u001b[0minputs\u001b[0m\u001b[1;33m)\u001b[0m\u001b[1;33m\u001b[0m\u001b[0m\n\u001b[0m\u001b[0;32m     44\u001b[0m \u001b[1;33m\u001b[0m\u001b[0m\n\u001b[0;32m     45\u001b[0m         \u001b[1;32mwith\u001b[0m \u001b[0mtf\u001b[0m\u001b[1;33m.\u001b[0m\u001b[0mname_scope\u001b[0m\u001b[1;33m(\u001b[0m\u001b[1;34m'd'\u001b[0m \u001b[1;33m+\u001b[0m \u001b[0mname\u001b[0m\u001b[1;33m)\u001b[0m\u001b[1;33m,\u001b[0m \u001b[0mtf\u001b[0m\u001b[1;33m.\u001b[0m\u001b[0mvariable_scope\u001b[0m\u001b[1;33m(\u001b[0m\u001b[1;34m'd'\u001b[0m\u001b[1;33m,\u001b[0m \u001b[0mreuse\u001b[0m\u001b[1;33m=\u001b[0m\u001b[0mself\u001b[0m\u001b[1;33m.\u001b[0m\u001b[0mreuse\u001b[0m\u001b[1;33m)\u001b[0m\u001b[1;33m:\u001b[0m\u001b[1;33m\u001b[0m\u001b[0m\n",
      "\u001b[1;32mc:\\Anaconda3\\lib\\site-packages\\tensorflow\\python\\framework\\ops.py\u001b[0m in \u001b[0;36mconvert_to_tensor\u001b[1;34m(value, dtype, name, preferred_dtype)\u001b[0m\n\u001b[0;32m    834\u001b[0m       \u001b[0mname\u001b[0m\u001b[1;33m=\u001b[0m\u001b[0mname\u001b[0m\u001b[1;33m,\u001b[0m\u001b[1;33m\u001b[0m\u001b[0m\n\u001b[0;32m    835\u001b[0m       \u001b[0mpreferred_dtype\u001b[0m\u001b[1;33m=\u001b[0m\u001b[0mpreferred_dtype\u001b[0m\u001b[1;33m,\u001b[0m\u001b[1;33m\u001b[0m\u001b[0m\n\u001b[1;32m--> 836\u001b[1;33m       as_ref=False)\n\u001b[0m\u001b[0;32m    837\u001b[0m \u001b[1;33m\u001b[0m\u001b[0m\n\u001b[0;32m    838\u001b[0m \u001b[1;33m\u001b[0m\u001b[0m\n",
      "\u001b[1;32mc:\\Anaconda3\\lib\\site-packages\\tensorflow\\python\\framework\\ops.py\u001b[0m in \u001b[0;36minternal_convert_to_tensor\u001b[1;34m(value, dtype, name, as_ref, preferred_dtype, ctx)\u001b[0m\n\u001b[0;32m    924\u001b[0m \u001b[1;33m\u001b[0m\u001b[0m\n\u001b[0;32m    925\u001b[0m     \u001b[1;32mif\u001b[0m \u001b[0mret\u001b[0m \u001b[1;32mis\u001b[0m \u001b[1;32mNone\u001b[0m\u001b[1;33m:\u001b[0m\u001b[1;33m\u001b[0m\u001b[0m\n\u001b[1;32m--> 926\u001b[1;33m       \u001b[0mret\u001b[0m \u001b[1;33m=\u001b[0m \u001b[0mconversion_func\u001b[0m\u001b[1;33m(\u001b[0m\u001b[0mvalue\u001b[0m\u001b[1;33m,\u001b[0m \u001b[0mdtype\u001b[0m\u001b[1;33m=\u001b[0m\u001b[0mdtype\u001b[0m\u001b[1;33m,\u001b[0m \u001b[0mname\u001b[0m\u001b[1;33m=\u001b[0m\u001b[0mname\u001b[0m\u001b[1;33m,\u001b[0m \u001b[0mas_ref\u001b[0m\u001b[1;33m=\u001b[0m\u001b[0mas_ref\u001b[0m\u001b[1;33m)\u001b[0m\u001b[1;33m\u001b[0m\u001b[0m\n\u001b[0m\u001b[0;32m    927\u001b[0m \u001b[1;33m\u001b[0m\u001b[0m\n\u001b[0;32m    928\u001b[0m     \u001b[1;32mif\u001b[0m \u001b[0mret\u001b[0m \u001b[1;32mis\u001b[0m \u001b[0mNotImplemented\u001b[0m\u001b[1;33m:\u001b[0m\u001b[1;33m\u001b[0m\u001b[0m\n",
      "\u001b[1;32mc:\\Anaconda3\\lib\\site-packages\\tensorflow\\python\\framework\\constant_op.py\u001b[0m in \u001b[0;36m_constant_tensor_conversion_function\u001b[1;34m(v, dtype, name, as_ref)\u001b[0m\n\u001b[0;32m    227\u001b[0m                                          as_ref=False):\n\u001b[0;32m    228\u001b[0m   \u001b[0m_\u001b[0m \u001b[1;33m=\u001b[0m \u001b[0mas_ref\u001b[0m\u001b[1;33m\u001b[0m\u001b[0m\n\u001b[1;32m--> 229\u001b[1;33m   \u001b[1;32mreturn\u001b[0m \u001b[0mconstant\u001b[0m\u001b[1;33m(\u001b[0m\u001b[0mv\u001b[0m\u001b[1;33m,\u001b[0m \u001b[0mdtype\u001b[0m\u001b[1;33m=\u001b[0m\u001b[0mdtype\u001b[0m\u001b[1;33m,\u001b[0m \u001b[0mname\u001b[0m\u001b[1;33m=\u001b[0m\u001b[0mname\u001b[0m\u001b[1;33m)\u001b[0m\u001b[1;33m\u001b[0m\u001b[0m\n\u001b[0m\u001b[0;32m    230\u001b[0m \u001b[1;33m\u001b[0m\u001b[0m\n\u001b[0;32m    231\u001b[0m \u001b[1;33m\u001b[0m\u001b[0m\n",
      "\u001b[1;32mc:\\Anaconda3\\lib\\site-packages\\tensorflow\\python\\framework\\constant_op.py\u001b[0m in \u001b[0;36mconstant\u001b[1;34m(value, dtype, shape, name, verify_shape)\u001b[0m\n\u001b[0;32m    206\u001b[0m   tensor_value.tensor.CopyFrom(\n\u001b[0;32m    207\u001b[0m       tensor_util.make_tensor_proto(\n\u001b[1;32m--> 208\u001b[1;33m           value, dtype=dtype, shape=shape, verify_shape=verify_shape))\n\u001b[0m\u001b[0;32m    209\u001b[0m   \u001b[0mdtype_value\u001b[0m \u001b[1;33m=\u001b[0m \u001b[0mattr_value_pb2\u001b[0m\u001b[1;33m.\u001b[0m\u001b[0mAttrValue\u001b[0m\u001b[1;33m(\u001b[0m\u001b[0mtype\u001b[0m\u001b[1;33m=\u001b[0m\u001b[0mtensor_value\u001b[0m\u001b[1;33m.\u001b[0m\u001b[0mtensor\u001b[0m\u001b[1;33m.\u001b[0m\u001b[0mdtype\u001b[0m\u001b[1;33m)\u001b[0m\u001b[1;33m\u001b[0m\u001b[0m\n\u001b[0;32m    210\u001b[0m   const_tensor = g.create_op(\n",
      "\u001b[1;32mc:\\Anaconda3\\lib\\site-packages\\tensorflow\\python\\framework\\tensor_util.py\u001b[0m in \u001b[0;36mmake_tensor_proto\u001b[1;34m(values, dtype, shape, verify_shape)\u001b[0m\n\u001b[0;32m    390\u001b[0m                          \"\"\" - got shape %s, but wanted %s.\"\"\" % (\n\u001b[0;32m    391\u001b[0m                              \u001b[0mvalues\u001b[0m\u001b[1;33m,\u001b[0m \u001b[0mlist\u001b[0m\u001b[1;33m(\u001b[0m\u001b[0mnparray\u001b[0m\u001b[1;33m.\u001b[0m\u001b[0mshape\u001b[0m\u001b[1;33m)\u001b[0m\u001b[1;33m,\u001b[0m\u001b[1;33m\u001b[0m\u001b[0m\n\u001b[1;32m--> 392\u001b[1;33m                              _GetDenseDimensions(values)))\n\u001b[0m\u001b[0;32m    393\u001b[0m \u001b[1;33m\u001b[0m\u001b[0m\n\u001b[0;32m    394\u001b[0m     \u001b[1;31m# python/numpy default float type is float64. We prefer float32 instead.\u001b[0m\u001b[1;33m\u001b[0m\u001b[1;33m\u001b[0m\u001b[0m\n",
      "\u001b[1;31mValueError\u001b[0m: Argument must be a dense tensor: [array([[244, 244, 244, ..., 231, 232, 233],\n       [244, 244, 244, ..., 232, 233, 233],\n       [244, 244, 244, ..., 234, 234, 235],\n       ..., \n       [174, 173, 171, ...,  44,  44,  44],\n       [160, 159, 158, ...,  44,  44,  44],\n       [151, 151, 152, ...,  44,  44,  44]], dtype=uint8), array([[143, 123,  66, ..., 205, 205, 154],\n       [143, 131,  82, ..., 231, 249, 182],\n       [162, 155, 107, ..., 230, 244, 157],\n       ..., \n       [ 46,  44,  42, ...,  41,  43,  45],\n       [ 46,  46,  45, ...,  41,  41,  42],\n       [ 41,  43,  45, ...,  44,  41,  39]], dtype=uint8), array([[154, 153, 153, ..., 130, 130, 130],\n       [154, 153, 153, ..., 130, 130, 130],\n       [154, 154, 153, ..., 130, 130, 130],\n       ..., \n       [ 17,  14,  12, ...,  21,  22,  24],\n       [ 15,  10,   9, ...,  20,  22,  24],\n       [ 10,   5,   5, ...,  17,  20,  22]], dtype=uint8), array([[  8,  14,  18, ..., 186, 187, 188],\n       [  4,   8,  12, ..., 187, 188, 188],\n       [  4,   5,   7, ..., 189, 189, 190],\n       ..., \n       [ 19,  22,  22, ...,  26,  22,  16],\n       [ 20,  21,  20, ...,  27,  26,  23],\n       [ 14,  16,  14, ...,  29,  31,  30]], dtype=uint8), array([[ 47, 106, 155, ...,  44,  34,  33],\n       [ 50,  99, 169, ...,  41,  39,  41],\n       [ 59,  94, 162, ...,  43,  45,  45],\n       ..., \n       [ 55,  56,  56, ...,  73,  73,  72],\n       [ 56,  56,  56, ...,  76,  75,  75],\n       [ 56,  57,  57, ...,  79,  79,  78]], dtype=uint8), array([[192, 191, 191, ..., 169, 169, 169],\n       [192, 191, 191, ..., 169, 169, 169],\n       [192, 192, 191, ..., 169, 169, 169],\n       ..., \n       [ 36,  26,  31, ...,  72,  47,  44],\n       [ 36,  24,  30, ...,  83,  45,  48],\n       [ 42,  30,  34, ...,  73,  34,  55]], dtype=uint8), array([[ 87,  87,  87, ..., 119, 119, 119],\n       [ 87,  87,  87, ..., 119, 119, 119],\n       [ 87,  87,  87, ..., 119, 119, 119],\n       ..., \n       [ 34,  22,  31, ...,  26,  25,  25],\n       [ 31,  21,  32, ...,  26,  27,  27],\n       [ 28,  20,  31, ...,  27,  27,  28]], dtype=uint8), array([[211, 210, 210, ..., 205, 205, 205],\n       [211, 210, 210, ..., 205, 205, 205],\n       [211, 210, 210, ..., 205, 205, 205],\n       ..., \n       [ 23,  26,  31, ...,  53,  41,  37],\n       [ 28,  32,  36, ...,  39,  24,  29],\n       [ 34,  38,  42, ...,  34,  22,  41]], dtype=uint8), array([[150, 150, 150, ..., 193, 193, 193],\n       [150, 150, 150, ..., 193, 193, 193],\n       [150, 150, 150, ..., 194, 194, 194],\n       ..., \n       [ 99, 112,  81, ...,  31,  32,  32],\n       [ 94, 104,  79, ...,  29,  30,  30],\n       [ 81,  73,  83, ...,  31,  32,  32]], dtype=uint8), array([[253, 246, 253, ...,  68,  66,  67],\n       [240, 246, 250, ...,  65,  63,  63],\n       [194, 241, 253, ...,  62,  59,  59],\n       ..., \n       [133, 134, 133, ..., 117, 119, 121],\n       [133, 135, 136, ..., 114, 116, 120],\n       [134, 137, 138, ..., 113, 115, 119]], dtype=uint8), array([[109, 111, 127, ...,  42,  40,  39],\n       [101, 114, 141, ...,  45,  40,  38],\n       [ 96, 109, 130, ...,  47,  41,  37],\n       ..., \n       [149, 152, 157, ...,  40,  38,  33],\n       [153, 151, 152, ...,  65,  60,  47],\n       [150, 147, 148, ...,  96,  86,  66]], dtype=uint8), array([[33, 34, 36, ..., 40, 39, 37],\n       [33, 34, 36, ..., 41, 39, 38],\n       [34, 35, 36, ..., 43, 41, 39],\n       ..., \n       [34, 34, 34, ..., 46, 43, 42],\n       [34, 34, 34, ..., 53, 51, 48],\n       [35, 35, 35, ..., 61, 58, 56]], dtype=uint8), array([[213, 212, 107, ..., 245, 194, 166],\n       [145, 157,  99, ..., 209, 184, 187],\n       [169, 136,  73, ..., 196, 186, 187],\n       ..., \n       [ 63,  59,  63, ...,  33,  33,  33],\n       [ 84,  77,  77, ...,  28,  30,  30],\n       [ 78,  70,  67, ...,  35,  36,  33]], dtype=uint8), array([[252, 253, 254, ..., 179, 184, 185],\n       [251, 254, 255, ..., 175, 179, 182],\n       [253, 254, 255, ..., 171, 179, 192],\n       ..., \n       [ 75,  74,  71, ...,  97, 100, 105],\n       [ 69,  70,  70, ...,  99,  97,  97],\n       [ 67,  69,  71, ..., 110, 103, 101]], dtype=uint8), array([[185, 192, 196, ..., 112, 112, 114],\n       [185, 190, 195, ..., 111, 112, 115],\n       [192, 194, 196, ..., 110, 113, 116],\n       ..., \n       [157, 161, 169, ..., 117, 123, 123],\n       [161, 159, 162, ..., 120, 106,  88],\n       [144, 135, 133, ..., 117,  92,  69]], dtype=uint8), array([[145, 138, 131, ...,  87,  85,  83],\n       [141, 136, 131, ...,  91,  89,  87],\n       [134, 131, 129, ...,  88,  85,  82],\n       ..., \n       [ 68,  64,  60, ...,  43,  45,  43],\n       [ 63,  62,  61, ...,  56,  59,  57],\n       [ 58,  59,  60, ...,  65,  64,  60]], dtype=uint8), array([[75, 76, 78, ..., 21, 22, 23],\n       [74, 75, 76, ..., 22, 23, 24],\n       [74, 74, 75, ..., 24, 24, 25],\n       ..., \n       [39, 39, 40, ..., 26, 26, 26],\n       [39, 39, 40, ..., 26, 26, 26],\n       [39, 40, 40, ..., 26, 26, 26]], dtype=uint8), array([[ 75,  71,  71, ...,  99,  99, 104],\n       [ 74,  70,  71, ..., 101, 101, 106],\n       [ 73,  70,  70, ..., 103, 102, 106],\n       ..., \n       [148, 147, 143, ..., 130, 124, 117],\n       [146, 146, 145, ..., 128, 125, 121],\n       [145, 146, 147, ..., 128, 129, 128]], dtype=uint8), array([[ 80,  89, 101, ...,  37,  30,  26],\n       [ 77,  62,  69, ...,  35,  32,  32],\n       [122,  97,  95, ...,  35,  36,  39],\n       ..., \n       [ 16,  16,  16, ...,  22,  25,  27],\n       [ 16,  15,  14, ...,  22,  25,  27],\n       [ 16,  15,  13, ...,  26,  28,  29]], dtype=uint8), array([[ 47,  48,  46, ..., 101,  97,  98],\n       [ 51,  49,  46, ...,  94,  95,  98],\n       [ 52,  48,  46, ...,  88,  92,  97],\n       ..., \n       [ 32,  31,  28, ...,  15,   8,   9],\n       [ 18,  19,  17, ...,  19,  11,  12],\n       [ 25,  25,  22, ...,  16,   8,   9]], dtype=uint8), array([[130,  98,  85, ..., 129, 129, 129],\n       [209, 186, 128, ..., 129, 129, 129],\n       [241, 215, 191, ..., 129, 129, 129],\n       ..., \n       [ 15,  15,  15, ...,  18,  22,  29],\n       [ 20,  19,  17, ...,  18,  14,  16],\n       [ 24,  22,  18, ...,  26,  29,  35]], dtype=uint8), array([[254, 254, 254, ..., 255, 255, 255],\n       [254, 254, 254, ..., 255, 255, 255],\n       [254, 254, 254, ..., 255, 255, 255],\n       ..., \n       [ 60,  61,  62, ...,  76,  76,  76],\n       [ 62,  61,  61, ...,  78,  74,  75],\n       [ 59,  58,  57, ...,  78,  66,  65]], dtype=uint8), array([[255, 255, 255, ..., 168, 174, 181],\n       [255, 255, 255, ..., 165, 179, 198],\n       [255, 255, 255, ..., 165, 178, 198],\n       ..., \n       [104, 103,  95, ...,  28,  33,  42],\n       [110, 113, 107, ...,  33,  40,  50],\n       [107, 116, 113, ...,  37,  47,  57]], dtype=uint8), array([[ 62,  65,  69, ..., 130, 130, 129],\n       [ 63,  66,  71, ..., 128, 127, 127],\n       [ 62,  67,  72, ..., 126, 125, 124],\n       ..., \n       [140, 144, 151, ...,  65,  67,  69],\n       [140, 142, 144, ...,  61,  63,  65],\n       [145, 143, 141, ...,  58,  59,  61]], dtype=uint8), array([[10,  4,  1, ..., 31, 32, 37],\n       [16,  7,  1, ..., 31, 33, 37],\n       [26, 16,  6, ..., 30, 33, 38],\n       ..., \n       [21, 20, 20, ..., 46, 47, 46],\n       [24, 22, 21, ..., 51, 55, 55],\n       [29, 27, 25, ..., 50, 54, 55]], dtype=uint8), array([[ 42,  73,  76, ...,  40,  76, 136],\n       [ 30,  42,  46, ...,  48,  72, 110],\n       [ 33,  24,  30, ...,  43,  48,  60],\n       ..., \n       [ 12,  10,   8, ...,  27,  23,  21],\n       [ 11,  10,   8, ...,  26,  23,  21],\n       [ 11,   9,   7, ...,  25,  25,  25]], dtype=uint8), array([[152, 158, 145, ..., 176, 209, 245],\n       [151, 150, 133, ..., 254, 254, 245],\n       [153, 144, 120, ..., 253, 236, 221],\n       ..., \n       [100, 118, 119, ...,  48,  56,  69],\n       [108, 118, 124, ...,  54,  55,  64],\n       [114, 120, 129, ...,  61,  57,  62]], dtype=uint8), array([[159, 158, 158, ..., 144, 144, 144],\n       [160, 160, 159, ..., 144, 144, 144],\n       [161, 161, 160, ..., 145, 144, 144],\n       ..., \n       [178, 176, 172, ..., 160, 182, 173],\n       [175, 178, 182, ..., 143, 170, 193],\n       [172, 179, 186, ..., 139, 140, 164]], dtype=uint8), array([[136, 136, 136, ..., 150, 150, 150],\n       [136, 136, 136, ..., 150, 150, 150],\n       [135, 135, 135, ..., 150, 150, 150],\n       ..., \n       [ 49,  46,  43, ..., 109, 110, 105],\n       [ 52,  48,  46, ..., 108, 107, 104],\n       [ 53,  49,  46, ..., 114, 114, 109]], dtype=uint8), array([[255, 255, 255, ..., 216, 205, 196],\n       [255, 255, 255, ..., 196, 191, 187],\n       [255, 255, 255, ..., 192, 196, 200],\n       ..., \n       [126, 126, 125, ...,  90,  81,  72],\n       [129, 138, 147, ...,  95,  89,  72],\n       [110, 130, 150, ..., 119, 103,  80]], dtype=uint8)] - got shape [30, 1024, 1024], but wanted [30]."
     ]
    }
   ],
   "source": [
    "dcgan = DCGAN()\n",
    "train_images = imagesLoaded\n",
    "losses = dcgan.loss(imagesLoaded)\n",
    "train_op = dcgan.train(losses)\n",
    "\n",
    "with tf.Session() as sess:\n",
    "    sess.run(tf.global_variables_initializer())\n",
    "\n",
    "    for step in range(FLAGS.max_steps):\n",
    "        _, g_loss_value, d_loss_value = sess.run([train_op, losses[dcgan.g], losses[dcgan.d]])"
   ]
  },
  {
   "cell_type": "code",
   "execution_count": null,
   "metadata": {
    "collapsed": true
   },
   "outputs": [],
   "source": []
  }
 ],
 "metadata": {
  "kernelspec": {
   "display_name": "Python 3",
   "language": "python",
   "name": "python3"
  },
  "language_info": {
   "codemirror_mode": {
    "name": "ipython",
    "version": 3
   },
   "file_extension": ".py",
   "mimetype": "text/x-python",
   "name": "python",
   "nbconvert_exporter": "python",
   "pygments_lexer": "ipython3",
   "version": "3.5.4"
  }
 },
 "nbformat": 4,
 "nbformat_minor": 2
}
